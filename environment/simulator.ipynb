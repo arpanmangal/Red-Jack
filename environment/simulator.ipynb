{
 "cells": [
  {
   "cell_type": "markdown",
   "metadata": {},
   "source": [
    "# Testing the Simulator module"
   ]
  },
  {
   "cell_type": "code",
   "execution_count": 1,
   "metadata": {},
   "outputs": [],
   "source": [
    "from simulator import Simulator"
   ]
  },
  {
   "cell_type": "code",
   "execution_count": 2,
   "metadata": {},
   "outputs": [],
   "source": [
    "# Creating the simulator instance\n",
    "sim = Simulator()"
   ]
  },
  {
   "cell_type": "code",
   "execution_count": 3,
   "metadata": {},
   "outputs": [],
   "source": [
    "# Running the simulator\n",
    "import numpy as np\n",
    "\n",
    "def run():\n",
    "    time = 0\n",
    "    state = sim.reset()\n",
    "    reward, done = 0, False\n",
    "    print (time)\n",
    "    print (state)\n",
    "\n",
    "    while not done:\n",
    "        print(' ')\n",
    "        time += 1\n",
    "        \n",
    "        # With 33 % probability S\n",
    "        if np.random.rand() < 1/3:\n",
    "            state, reward, done = sim.step(state, 'S')\n",
    "        else:\n",
    "            state, reward, done = sim.step(state, 'H')\n",
    "        print ('Time:', time)\n",
    "        print (state)\n",
    "        print (reward, done)"
   ]
  },
  {
   "cell_type": "code",
   "execution_count": 6,
   "metadata": {
    "scrolled": false
   },
   "outputs": [
    {
     "name": "stdout",
     "output_type": "stream",
     "text": [
      "0\n",
      "Player: 7 | [False, False, False] || [7]\n",
      "Dealer: 10 | [False, False, False] || [10]\n",
      " \n",
      "Time: 1\n",
      "Player: 12 | [False, False, False] || [12]\n",
      "Dealer: 10 | [False, False, False] || [10]\n",
      "0 False\n",
      " \n",
      "Time: 2\n",
      "Player: 5 | [False, False, False] || [5]\n",
      "Dealer: 10 | [False, False, False] || [10]\n",
      "0 False\n",
      " \n",
      "Time: 3\n",
      "Player: 3 | [False, False, False] || [3]\n",
      "Dealer: 10 | [False, False, False] || [10]\n",
      "0 False\n",
      " \n",
      "Playing as dealer\n",
      "Time: 4\n",
      "Player: 3 | [False, False, False] || [3]\n",
      "Dealer: 26 | [False, False, False] || [26]\n",
      "-1 True\n"
     ]
    }
   ],
   "source": [
    "# Run\n",
    "run()"
   ]
  },
  {
   "cell_type": "code",
   "execution_count": null,
   "metadata": {},
   "outputs": [],
   "source": []
  }
 ],
 "metadata": {
  "kernelspec": {
   "display_name": "Python 3",
   "language": "python",
   "name": "python3"
  },
  "language_info": {
   "codemirror_mode": {
    "name": "ipython",
    "version": 3
   },
   "file_extension": ".py",
   "mimetype": "text/x-python",
   "name": "python",
   "nbconvert_exporter": "python",
   "pygments_lexer": "ipython3",
   "version": "3.7.3"
  }
 },
 "nbformat": 4,
 "nbformat_minor": 2
}
